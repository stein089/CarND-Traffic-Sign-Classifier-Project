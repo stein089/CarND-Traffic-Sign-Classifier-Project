{
 "cells": [
  {
   "cell_type": "markdown",
   "metadata": {},
   "source": [
    "# Self-Driving Car Engineer Nanodegree\n",
    "\n",
    "## Deep Learning\n",
    "\n",
    "## Project: Build a Traffic Sign Recognition Classifier"
   ]
  },
  {
   "cell_type": "markdown",
   "metadata": {},
   "source": [
    "---\n",
    "## Step 0: Load The Data"
   ]
  },
  {
   "cell_type": "code",
   "execution_count": 1,
   "metadata": {},
   "outputs": [
    {
     "name": "stdout",
     "output_type": "stream",
     "text": [
      "Image Shape: (32, 32, 3)\n",
      "\n",
      "Training Set:   34799 samples\n",
      "Validation Set: 4410 samples\n",
      "Test Set:       12630 samples\n"
     ]
    }
   ],
   "source": [
    "# Load pickled data\n",
    "import pickle\n",
    "import csv\n",
    "\n",
    "# TODO: Fill this in based on where you saved the training and testing data\n",
    "label_file = \"signnames.csv\";\n",
    "training_file = \"input_data/train.p\"\n",
    "validation_file= \"input_data/valid.p\"\n",
    "testing_file = \"input_data/test.p\"\n",
    "\n",
    "with open(training_file, mode='rb') as f:\n",
    "    train = pickle.load(f)\n",
    "with open(validation_file, mode='rb') as f:\n",
    "    valid = pickle.load(f)\n",
    "with open(testing_file, mode='rb') as f:\n",
    "    test = pickle.load(f)\n",
    "    \n",
    "X_train_in, y_train_in = train['features'], train['labels']\n",
    "X_valid_in, y_valid_in = valid['features'], valid['labels']\n",
    "X_test_in, y_test_in = test['features'], test['labels']\n",
    "\n",
    "with open(label_file, mode='r') as infile:\n",
    "    next(infile)  #skip header line \n",
    "    reader = csv.reader(infile)\n",
    "    signame_dict = dict((rows[0],rows[1]) for rows in reader)\n",
    "    \n",
    "print(\"Image Shape: {}\".format(X_train_in[0].shape))\n",
    "print()\n",
    "print(\"Training Set:   {} samples\".format(len(X_train_in)))\n",
    "print(\"Validation Set: {} samples\".format(len(X_valid_in)))\n",
    "print(\"Test Set:       {} samples\".format(len(X_test_in)))"
   ]
  },
  {
   "cell_type": "markdown",
   "metadata": {},
   "source": [
    "---\n",
    "\n",
    "## Step 1: Dataset Summary & Exploration\n"
   ]
  },
  {
   "cell_type": "markdown",
   "metadata": {},
   "source": [
    "### Provide a Basic Summary of the Data Set Using Python, Numpy and/or Pandas"
   ]
  },
  {
   "cell_type": "code",
   "execution_count": 2,
   "metadata": {},
   "outputs": [
    {
     "name": "stdout",
     "output_type": "stream",
     "text": [
      "Number of training examples = 34799\n",
      "Number of training examples = 4410\n",
      "Number of testing examples = 12630\n",
      "Image data shape = (32, 32, 3)\n",
      "Number of classes = 43\n"
     ]
    }
   ],
   "source": [
    "# Number of training examples\n",
    "n_train = len(X_train_in)\n",
    "\n",
    "# Number of validation examples\n",
    "n_validation = len(X_valid_in)\n",
    "\n",
    "# Number of testing examples.\n",
    "n_test = len(X_test_in)\n",
    "\n",
    "# What's the shape of an traffic sign image?\n",
    "image_shape = X_train_in[0].shape\n",
    "\n",
    "# How many unique classes/labels there are in the dataset.\n",
    "n_classes = max(y_train_in) - min(y_train_in) + 1\n",
    "\n",
    "print(\"Number of training examples =\", n_train)\n",
    "print(\"Number of validation examples =\", n_validation)\n",
    "print(\"Number of testing examples =\", n_test)\n",
    "print(\"Image data shape =\", image_shape)\n",
    "print(\"Number of classes =\", n_classes)"
   ]
  },
  {
   "cell_type": "markdown",
   "metadata": {},
   "source": [
    "### Include an exploratory visualization of the dataset"
   ]
  },
  {
   "cell_type": "code",
   "execution_count": 3,
   "metadata": {},
   "outputs": [
    {
     "name": "stdout",
     "output_type": "stream",
     "text": [
      "36  -  Go straight or right\n"
     ]
    },
    {
     "data": {
      "image/png": "[encoded data removed]",
      "text/plain": [
       "<matplotlib.figure.Figure at 0x7f3c827702b0>"
      ]
     },
     "metadata": {},
     "output_type": "display_data"
    }
   ],
   "source": [
    "### Data exploration visualization code goes here.\n",
    "### Feel free to use as many code cells as needed.\n",
    "import matplotlib.pyplot as plt\n",
    "# Visualizations will be shown in the notebook.\n",
    "%matplotlib inline\n",
    "\n",
    "import random\n",
    "import numpy as np\n",
    "\n",
    "index = random.randint(0, len(X_train_in))\n",
    "image = X_train_in[index].squeeze()\n",
    "\n",
    "fig = plt.figure(figsize=(2,2))\n",
    "plt.imshow(image)\n",
    "fig.suptitle(str(y_train_in[index]))\n",
    "\n",
    "print(y_train_in[index], \" - \", signame_dict[str(y_train_in[index])])"
   ]
  },
  {
   "cell_type": "markdown",
   "metadata": {},
   "source": [
    "----\n",
    "\n",
    "## Step 2: Design and Test a Model Architecture\n"
   ]
  },
  {
   "cell_type": "markdown",
   "metadata": {},
   "source": [
    "### Pre-process the Data Set"
   ]
  },
  {
   "cell_type": "markdown",
   "metadata": {},
   "source": [
    "1. Grayscale\n",
    "2. Extend Training set with two gamma-corrections (0.5, 2) of grayscale-training-set\n",
    "3. Normalize values to the range between -1 and 1 "
   ]
  },
  {
   "cell_type": "code",
   "execution_count": 18,
   "metadata": {
    "scrolled": true
   },
   "outputs": [
    {
     "name": "stdout",
     "output_type": "stream",
     "text": [
      "New Number of training examples = 104397\n"
     ]
    }
   ],
   "source": [
    "### Preprocess the data here. It is required to normalize the data. Other preprocessing steps could include \n",
    "### converting to grayscale, etc.\n",
    "### Feel free to use as many code cells as needed.\n",
    "\n",
    "from sklearn.utils import shuffle\n",
    "import cv2\n",
    "\n",
    "def rgb2gray(rgb):\n",
    "    r, g, b = rgb[:,:,:,0], rgb[:,:,:,1], rgb[:,:,:,2]\n",
    "    gray = 0.2989 * r + 0.5870 * g + 0.1140 * b\n",
    "    gray = np.expand_dims(gray, axis=3) \n",
    "    return gray\n",
    "\n",
    "# From: http://py-fu.blogspot.co.at/2014/04/simple-gamma-correction-with-opencv.html\n",
    "def gamma_correction(img, correction):\n",
    "    img = img/255.0\n",
    "    img = cv2.pow(img, correction)\n",
    "    return np.uint8(img*255)\n",
    "\n",
    "X_train = rgb2gray(X_train_in)\n",
    "X_valid = rgb2gray(X_valid_in)\n",
    "X_test = rgb2gray(X_test_in)\n",
    "y_train = y_train_in\n",
    "y_valid = y_valid_in\n",
    "y_test = y_test_in\n",
    "\n",
    "# Concatenate training set with gamma_corrected variations of itself\n",
    "X_train = np.concatenate((X_train, gamma_correction(X_train, 0.5), gamma_correction(X_train, 2)), axis=0)\n",
    "y_train = np.concatenate((y_train, y_train, y_train), axis=0)\n",
    "\n",
    "X_train = (X_train-128.0)/128.0\n",
    "X_valid = (X_valid-128.0)/128.0\n",
    "X_test  = (X_test-128.0)/128.0\n",
    "\n",
    "print(\"New Number of training examples =\", len(X_train))"
   ]
  },
  {
   "cell_type": "code",
   "execution_count": 5,
   "metadata": {},
   "outputs": [
    {
     "name": "stdout",
     "output_type": "stream",
     "text": [
      "36  -  Go straight or right\n"
     ]
    },
    {
     "data": {
      "image/png": "[encoded data removed]",
      "text/plain": [
       "<matplotlib.figure.Figure at 0x7f3c5cf8b630>"
      ]
     },
     "metadata": {},
     "output_type": "display_data"
    },
    {
     "data": {
      "image/png": "[encoded data removed]",
      "text/plain": [
       "<matplotlib.figure.Figure at 0x7f3c3b692438>"
      ]
     },
     "metadata": {},
     "output_type": "display_data"
    },
    {
     "data": {
      "image/png": "[encoded data removed]",
      "text/plain": [
       "<matplotlib.figure.Figure at 0x7f3c3b65d2e8>"
      ]
     },
     "metadata": {},
     "output_type": "display_data"
    }
   ],
   "source": [
    "# Plot preprocessed input images\n",
    "\n",
    "fig = plt.figure(figsize=(2,2))\n",
    "plt.imshow(X_train[index].squeeze(), cmap=\"gray\")\n",
    "\n",
    "fig = plt.figure(figsize=(2,2))\n",
    "plt.imshow(X_train[index+2*len(X_train_in)].squeeze(), cmap=\"gray\")\n",
    "\n",
    "fig = plt.figure(figsize=(2,2))\n",
    "plt.imshow(X_train[index+1*len(X_train_in)].squeeze(), cmap=\"gray\")\n",
    "\n",
    "print(y_train[index], \" - \", signame_dict[str(y_train[index])])\n"
   ]
  },
  {
   "cell_type": "markdown",
   "metadata": {},
   "source": [
    "### Model Architecture"
   ]
  },
  {
   "cell_type": "code",
   "execution_count": 6,
   "metadata": {
    "collapsed": true
   },
   "outputs": [],
   "source": [
    "# Setup tensorflow\n",
    "\n",
    "import tensorflow as tf\n",
    "\n",
    "EPOCHS = 50\n",
    "BATCH_SIZE = 100"
   ]
  },
  {
   "cell_type": "code",
   "execution_count": 7,
   "metadata": {
    "collapsed": true
   },
   "outputs": [],
   "source": [
    "from tensorflow.contrib.layers import flatten\n",
    "\n",
    "def LeNet(x):    \n",
    "    # Arguments used for tf.truncated_normal, randomly defines variables for the weights and biases for each layer\n",
    "    mu = 0\n",
    "    sigma = 0.07\n",
    "    \n",
    "    # Layer 1: Convolutional. Input = 32x32x1. Output = 28x28x6.\n",
    "    conv1_W = tf.Variable(tf.truncated_normal(shape=(5, 5, 1, 6), mean = mu, stddev = sigma))\n",
    "    conv1_b = tf.Variable(tf.zeros(6))\n",
    "    conv1   = tf.nn.conv2d(x, conv1_W, strides=[1, 1, 1, 1], padding='VALID') + conv1_b\n",
    "\n",
    "    # Activation.\n",
    "    conv1 = tf.nn.relu(conv1)\n",
    "\n",
    "    # Pooling. Input = 28x28x6. Output = 14x14x6.\n",
    "    conv1 = tf.nn.max_pool(conv1, ksize=[1, 2, 2, 1], strides=[1, 2, 2, 1], padding='VALID')\n",
    "\n",
    "    # Layer 2: Convolutional. Output = 10x10x16.\n",
    "    conv2_W = tf.Variable(tf.truncated_normal(shape=(5, 5, 6, 16), mean = mu, stddev = sigma))\n",
    "    conv2_b = tf.Variable(tf.zeros(16))\n",
    "    conv2   = tf.nn.conv2d(conv1, conv2_W, strides=[1, 1, 1, 1], padding='VALID') + conv2_b\n",
    "    \n",
    "    # Activation.\n",
    "    conv2 = tf.nn.relu(conv2)\n",
    "\n",
    "    # Pooling. Input = 10x10x16. Output = 5x5x16.\n",
    "    conv2 = tf.nn.max_pool(conv2, ksize=[1, 2, 2, 1], strides=[1, 2, 2, 1], padding='VALID')\n",
    "\n",
    "    # Flatten. Input = 5x5x16. Output = 400.\n",
    "    fc0   = flatten(conv2)\n",
    "    \n",
    "    # Layer 3: Fully Connected. Input = 400. Output = 120.\n",
    "    fc1_W = tf.Variable(tf.truncated_normal(shape=(400, 120), mean = mu, stddev = sigma))\n",
    "    fc1_b = tf.Variable(tf.zeros(120))\n",
    "    fc1   = tf.matmul(fc0, fc1_W) + fc1_b\n",
    "    \n",
    "    # Activation.\n",
    "    fc1    = tf.nn.relu(fc1)\n",
    "    fc1 = tf.nn.dropout(fc1, 0.8)    \n",
    "\n",
    "    # Layer 4: Fully Connected. Input = 120. Output = 84.\n",
    "    fc2_W  = tf.Variable(tf.truncated_normal(shape=(120, 84), mean = mu, stddev = sigma))\n",
    "    fc2_b  = tf.Variable(tf.zeros(84))\n",
    "    fc2    = tf.matmul(fc1, fc2_W) + fc2_b\n",
    "    \n",
    "    # SOLUTION: Activation.\n",
    "    fc2    = tf.nn.relu(fc2)\n",
    "    fc2 = tf.nn.dropout(fc2, 0.8)\n",
    "\n",
    "    # SOLUTION: Layer 5: Fully Connected. Input = 84. Output = 10.\n",
    "    fc3_W  = tf.Variable(tf.truncated_normal(shape=(84, 43), mean = mu, stddev = sigma))\n",
    "    fc3_b  = tf.Variable(tf.zeros(43))\n",
    "    logits = tf.matmul(fc2, fc3_W) + fc3_b\n",
    "    \n",
    "    return logits"
   ]
  },
  {
   "cell_type": "code",
   "execution_count": 8,
   "metadata": {
    "collapsed": true
   },
   "outputs": [],
   "source": [
    "# Features and Lables\n",
    "\n",
    "x = tf.placeholder(tf.float32, (None, 32, 32, 1))\n",
    "y = tf.placeholder(tf.int32, (None))\n",
    "one_hot_y = tf.one_hot(y, 43)"
   ]
  },
  {
   "cell_type": "markdown",
   "metadata": {},
   "source": [
    "### Train, Validate and Test the Model"
   ]
  },
  {
   "cell_type": "markdown",
   "metadata": {},
   "source": [
    "A validation set can be used to assess how well the model is performing. A low accuracy on the training and validation\n",
    "sets imply underfitting. A high accuracy on the training set but low accuracy on the validation set implies overfitting."
   ]
  },
  {
   "cell_type": "code",
   "execution_count": 9,
   "metadata": {
    "collapsed": true
   },
   "outputs": [],
   "source": [
    "# Training pipeline\n",
    "\n",
    "rate = 0.0005\n",
    "\n",
    "logits = LeNet(x)\n",
    "cross_entropy = tf.nn.softmax_cross_entropy_with_logits(labels=one_hot_y, logits=logits)\n",
    "loss_operation = tf.reduce_mean(cross_entropy)\n",
    "optimizer = tf.train.AdamOptimizer(learning_rate = rate)\n",
    "training_operation = optimizer.minimize(loss_operation)"
   ]
  },
  {
   "cell_type": "code",
   "execution_count": 10,
   "metadata": {
    "collapsed": true
   },
   "outputs": [],
   "source": [
    "# Model Evaluation\n",
    "correct_prediction = tf.equal(tf.argmax(logits, 1), tf.argmax(one_hot_y, 1))\n",
    "accuracy_operation = tf.reduce_mean(tf.cast(correct_prediction, tf.float32))\n",
    "saver = tf.train.Saver()\n",
    "\n",
    "def evaluate(X_data, y_data):\n",
    "    num_examples = len(X_data)\n",
    "    total_accuracy = 0\n",
    "    sess = tf.get_default_session()\n",
    "    for offset in range(0, num_examples, BATCH_SIZE):\n",
    "        batch_x, batch_y = X_data[offset:offset+BATCH_SIZE], y_data[offset:offset+BATCH_SIZE]\n",
    "        accuracy = sess.run(accuracy_operation, feed_dict={x: batch_x, y: batch_y})\n",
    "        total_accuracy += (accuracy * len(batch_x))\n",
    "    return total_accuracy / num_examples"
   ]
  },
  {
   "cell_type": "code",
   "execution_count": 11,
   "metadata": {},
   "outputs": [
    {
     "name": "stdout",
     "output_type": "stream",
     "text": [
      "Training...\n",
      "\n",
      "EPOCH 1 ...\n",
      "Validation Accuracy = 0.773\n",
      "Training Accuracy = 0.801\n",
      "\n",
      "EPOCH 2 ...\n",
      "Validation Accuracy = 0.851\n",
      "Training Accuracy = 0.885\n",
      "\n",
      "EPOCH 3 ...\n",
      "Validation Accuracy = 0.888\n",
      "Training Accuracy = 0.926\n",
      "\n",
      "EPOCH 4 ...\n",
      "Validation Accuracy = 0.895\n",
      "Training Accuracy = 0.939\n",
      "\n",
      "EPOCH 5 ...\n",
      "Validation Accuracy = 0.906\n",
      "Training Accuracy = 0.953\n",
      "\n",
      "EPOCH 6 ...\n",
      "Validation Accuracy = 0.915\n",
      "Training Accuracy = 0.962\n",
      "\n",
      "EPOCH 7 ...\n",
      "Validation Accuracy = 0.921\n",
      "Training Accuracy = 0.964\n",
      "\n",
      "EPOCH 8 ...\n",
      "Validation Accuracy = 0.915\n",
      "Training Accuracy = 0.969\n",
      "\n",
      "EPOCH 9 ...\n",
      "Validation Accuracy = 0.928\n",
      "Training Accuracy = 0.973\n",
      "\n",
      "EPOCH 10 ...\n",
      "Validation Accuracy = 0.924\n",
      "Training Accuracy = 0.975\n",
      "\n",
      "EPOCH 11 ...\n",
      "Validation Accuracy = 0.936\n",
      "Training Accuracy = 0.978\n",
      "\n",
      "EPOCH 12 ...\n",
      "Validation Accuracy = 0.934\n",
      "Training Accuracy = 0.980\n",
      "\n",
      "EPOCH 13 ...\n",
      "Validation Accuracy = 0.928\n",
      "Training Accuracy = 0.982\n",
      "\n",
      "EPOCH 14 ...\n",
      "Validation Accuracy = 0.935\n",
      "Training Accuracy = 0.983\n",
      "\n",
      "EPOCH 15 ...\n",
      "Validation Accuracy = 0.944\n",
      "Training Accuracy = 0.985\n",
      "\n",
      "EPOCH 16 ...\n",
      "Validation Accuracy = 0.944\n",
      "Training Accuracy = 0.987\n",
      "\n",
      "EPOCH 17 ...\n",
      "Validation Accuracy = 0.942\n",
      "Training Accuracy = 0.986\n",
      "\n",
      "EPOCH 18 ...\n",
      "Validation Accuracy = 0.941\n",
      "Training Accuracy = 0.988\n",
      "\n",
      "EPOCH 19 ...\n",
      "Validation Accuracy = 0.938\n",
      "Training Accuracy = 0.987\n",
      "\n",
      "EPOCH 20 ...\n",
      "Validation Accuracy = 0.943\n",
      "Training Accuracy = 0.987\n",
      "\n",
      "EPOCH 21 ...\n",
      "Validation Accuracy = 0.941\n",
      "Training Accuracy = 0.988\n",
      "\n",
      "EPOCH 22 ...\n",
      "Validation Accuracy = 0.932\n",
      "Training Accuracy = 0.987\n",
      "\n",
      "EPOCH 23 ...\n",
      "Validation Accuracy = 0.946\n",
      "Training Accuracy = 0.990\n",
      "\n",
      "EPOCH 24 ...\n",
      "Validation Accuracy = 0.945\n",
      "Training Accuracy = 0.990\n",
      "\n",
      "EPOCH 25 ...\n",
      "Validation Accuracy = 0.949\n",
      "Training Accuracy = 0.989\n",
      "\n",
      "EPOCH 26 ...\n",
      "Validation Accuracy = 0.949\n",
      "Training Accuracy = 0.990\n",
      "\n",
      "EPOCH 27 ...\n",
      "Validation Accuracy = 0.942\n",
      "Training Accuracy = 0.990\n",
      "\n",
      "EPOCH 28 ...\n",
      "Validation Accuracy = 0.944\n",
      "Training Accuracy = 0.991\n",
      "\n",
      "EPOCH 29 ...\n",
      "Validation Accuracy = 0.950\n",
      "Training Accuracy = 0.992\n",
      "\n",
      "EPOCH 30 ...\n",
      "Validation Accuracy = 0.949\n",
      "Training Accuracy = 0.992\n",
      "\n",
      "EPOCH 31 ...\n",
      "Validation Accuracy = 0.950\n",
      "Training Accuracy = 0.992\n",
      "\n",
      "EPOCH 32 ...\n",
      "Validation Accuracy = 0.946\n",
      "Training Accuracy = 0.992\n",
      "\n",
      "EPOCH 33 ...\n",
      "Validation Accuracy = 0.950\n",
      "Training Accuracy = 0.993\n",
      "\n",
      "EPOCH 34 ...\n",
      "Validation Accuracy = 0.945\n",
      "Training Accuracy = 0.993\n",
      "\n",
      "EPOCH 35 ...\n",
      "Validation Accuracy = 0.955\n",
      "Training Accuracy = 0.993\n",
      "\n",
      "EPOCH 36 ...\n",
      "Validation Accuracy = 0.955\n",
      "Training Accuracy = 0.993\n",
      "\n",
      "EPOCH 37 ...\n",
      "Validation Accuracy = 0.951\n",
      "Training Accuracy = 0.993\n",
      "\n",
      "EPOCH 38 ...\n",
      "Validation Accuracy = 0.947\n",
      "Training Accuracy = 0.994\n",
      "\n",
      "EPOCH 39 ...\n",
      "Validation Accuracy = 0.955\n",
      "Training Accuracy = 0.993\n",
      "\n",
      "EPOCH 40 ...\n",
      "Validation Accuracy = 0.950\n",
      "Training Accuracy = 0.994\n",
      "\n",
      "EPOCH 41 ...\n",
      "Validation Accuracy = 0.949\n",
      "Training Accuracy = 0.994\n",
      "\n",
      "EPOCH 42 ...\n",
      "Validation Accuracy = 0.953\n",
      "Training Accuracy = 0.993\n",
      "\n",
      "EPOCH 43 ...\n",
      "Validation Accuracy = 0.950\n",
      "Training Accuracy = 0.995\n",
      "\n",
      "EPOCH 44 ...\n",
      "Validation Accuracy = 0.953\n",
      "Training Accuracy = 0.995\n",
      "\n",
      "EPOCH 45 ...\n",
      "Validation Accuracy = 0.959\n",
      "Training Accuracy = 0.994\n",
      "\n",
      "EPOCH 46 ...\n",
      "Validation Accuracy = 0.949\n",
      "Training Accuracy = 0.995\n",
      "\n",
      "EPOCH 47 ...\n",
      "Validation Accuracy = 0.950\n",
      "Training Accuracy = 0.994\n",
      "\n",
      "EPOCH 48 ...\n",
      "Validation Accuracy = 0.949\n",
      "Training Accuracy = 0.994\n",
      "\n",
      "EPOCH 49 ...\n",
      "Validation Accuracy = 0.952\n",
      "Training Accuracy = 0.995\n",
      "\n",
      "EPOCH 50 ...\n",
      "Validation Accuracy = 0.949\n",
      "Training Accuracy = 0.993\n",
      "\n",
      "Model saved\n"
     ]
    }
   ],
   "source": [
    "X_train, y_train = shuffle(X_train, y_train)\n",
    "\n",
    "with tf.Session() as sess:\n",
    "    sess.run(tf.global_variables_initializer())\n",
    "    num_examples = len(X_train)\n",
    "    \n",
    "    print(\"Training...\")\n",
    "    print()\n",
    "    for i in range(EPOCHS):\n",
    "        X_train, y_train = shuffle(X_train, y_train)\n",
    "        for offset in range(0, num_examples, BATCH_SIZE):\n",
    "            end = offset + BATCH_SIZE\n",
    "            batch_x, batch_y = X_train[offset:end], y_train[offset:end]\n",
    "            sess.run(training_operation, feed_dict={x: batch_x, y: batch_y})\n",
    "            \n",
    "        validation_accuracy = evaluate(X_valid, y_valid)\n",
    "        print(\"EPOCH {} ...\".format(i+1))\n",
    "        print(\"Validation Accuracy = {:.3f}\".format(validation_accuracy))\n",
    "        training_accuracy = evaluate(X_train, y_train)\n",
    "        print(\"Training Accuracy = {:.3f}\".format(training_accuracy))        \n",
    "        print()\n",
    "        \n",
    "    saver.save(sess, './lenet')\n",
    "    print(\"Model saved\")"
   ]
  },
  {
   "cell_type": "markdown",
   "metadata": {},
   "source": [
    "### Test the Model"
   ]
  },
  {
   "cell_type": "code",
   "execution_count": 12,
   "metadata": {},
   "outputs": [
    {
     "name": "stdout",
     "output_type": "stream",
     "text": [
      "Test Accuracy = 0.924\n"
     ]
    }
   ],
   "source": [
    "with tf.Session() as sess:\n",
    "    saver.restore(sess, tf.train.latest_checkpoint('.'))\n",
    "\n",
    "    test_accuracy = evaluate(X_test, y_test)\n",
    "    print(\"Test Accuracy = {:.3f}\".format(test_accuracy))"
   ]
  },
  {
   "cell_type": "markdown",
   "metadata": {},
   "source": [
    "---\n",
    "\n",
    "## Step 3: Test a Model on New Images\n",
    "\n"
   ]
  },
  {
   "cell_type": "markdown",
   "metadata": {},
   "source": [
    "### Load and Output the Images"
   ]
  },
  {
   "cell_type": "code",
   "execution_count": 13,
   "metadata": {
    "scrolled": true
   },
   "outputs": [
    {
     "name": "stdout",
     "output_type": "stream",
     "text": [
      "(5, 32, 32, 3)\n",
      "['01.jpg', '02.jpg', '03.jpg', '04.jpg', '05.jpg']\n"
     ]
    },
    {
     "data": {
      "image/png": "[encoded data removed]",
      "text/plain": [
       "<matplotlib.figure.Figure at 0x7f3c0974e940>"
      ]
     },
     "metadata": {},
     "output_type": "display_data"
    },
    {
     "data": {
      "image/png": "[encoded data removed]",
      "text/plain": [
       "<matplotlib.figure.Figure at 0x7f3c086bb160>"
      ]
     },
     "metadata": {},
     "output_type": "display_data"
    },
    {
     "data": {
      "image/png": "[encoded data removed]",
      "text/plain": [
       "<matplotlib.figure.Figure at 0x7f3c08680ba8>"
      ]
     },
     "metadata": {},
     "output_type": "display_data"
    },
    {
     "data": {
      "image/png": "[encoded data removed]",
      "text/plain": [
       "<matplotlib.figure.Figure at 0x7f3c085d5f98>"
      ]
     },
     "metadata": {},
     "output_type": "display_data"
    },
    {
     "data": {
      "image/png": "[encoded data removed]",
      "text/plain": [
       "<matplotlib.figure.Figure at 0x7f3c085a20b8>"
      ]
     },
     "metadata": {},
     "output_type": "display_data"
    }
   ],
   "source": [
    "### Load the images and plot them here.\n",
    "### Feel free to use as many code cells as needed.\n",
    "import os\n",
    "import matplotlib.pyplot as plt\n",
    "import matplotlib.image as mpimg\n",
    "import pylab as pl\n",
    "import cv2\n",
    "from PIL import Image\n",
    "\n",
    "input_dir = \"web_traffic_signs/\";\n",
    "images = ['01.jpg', '02.jpg', '03.jpg', '04.jpg', '05.jpg']#, '06.jpg', '07.jpg', '08.jpg', '09.jpg']\n",
    "Y_my_test = [25, 13, 12, 10, 4]#, 33, 38, 13, 37]\n",
    "\n",
    "img_array = np.empty((len(images), 32, 32, 3), np.float32)\n",
    "print(img_array.shape)\n",
    "print(images)\n",
    "\n",
    "for i in range(len(images)):\n",
    "    image_in = mpimg.imread(input_dir+images[i])\n",
    "    image_in = cv2.resize(image_in, (32, 32));\n",
    "\n",
    "    fig = plt.figure(figsize=(2,2))\n",
    "    plt.imshow(image_in.squeeze())\n",
    "    fig.suptitle(str(str(Y_my_test[i]) + \" \" + signame_dict[str(Y_my_test[i])]))\n",
    "    img_array[i] =  image_in;\n",
    "    \n",
    "X_my_test=  rgb2gray(img_array)\n",
    "X_my_test = (X_my_test-128.0)/128.0"
   ]
  },
  {
   "cell_type": "markdown",
   "metadata": {},
   "source": [
    "### Predict the Sign Type for Each Image"
   ]
  },
  {
   "cell_type": "code",
   "execution_count": 14,
   "metadata": {},
   "outputs": [
    {
     "name": "stdout",
     "output_type": "stream",
     "text": [
      "  01.jpg: 25, Road work -> OK\n",
      "  02.jpg: 13, Yield -> OK\n",
      "  03.jpg: 12, Priority road -> OK\n",
      "  04.jpg: 10, No passing for vehicles over 3.5 metric tons -> OK\n",
      "  05.jpg: 4, Speed limit (70km/h) -> OK\n"
     ]
    }
   ],
   "source": [
    "### Run the predictions here and use the model to output the prediction for each image.\n",
    "### Make sure to pre-process the images with the same pre-processing pipeline used earlier.\n",
    "### Feel free to use as many code cells as needed.\n",
    "test_output = tf.argmax(logits, 1)\n",
    "\n",
    "with tf.Session() as sess:\n",
    "    saver.restore(sess, tf.train.latest_checkpoint('.'))\n",
    "    output = sess.run(test_output, feed_dict={x: X_my_test})\n",
    "\n",
    "    for i in range(len(X_my_test)):\n",
    "        \n",
    "        if (Y_my_test[i] == output[i]):\n",
    "            ok_str = \"OK\"\n",
    "        else:\n",
    "            ok_str = \"NOT OK\"\n",
    "        print(\"  {}: {}, {} -> {}\".format(images[i], output[i], signame_dict[str(Y_my_test[i])],ok_str))"
   ]
  },
  {
   "cell_type": "markdown",
   "metadata": {},
   "source": [
    "### Analyze Performance"
   ]
  },
  {
   "cell_type": "code",
   "execution_count": 15,
   "metadata": {},
   "outputs": [
    {
     "name": "stdout",
     "output_type": "stream",
     "text": [
      "Test Accuracy = 1.000\n"
     ]
    }
   ],
   "source": [
    "### Calculate the accuracy for these 5 new images. \n",
    "### For example, if the model predicted 1 out of 5 signs correctly, it's 20% accurate on these new images.\n",
    "\n",
    "with tf.Session() as sess:\n",
    "    saver.restore(sess, tf.train.latest_checkpoint('.'))\n",
    "\n",
    "    test_accuracy = evaluate(X_my_test, Y_my_test)\n",
    "    print(\"Test Accuracy = {:.3f}\".format(test_accuracy))\n"
   ]
  },
  {
   "cell_type": "markdown",
   "metadata": {},
   "source": [
    "### Output Top 5 Softmax Probabilities For Each Image Found on the Web"
   ]
  },
  {
   "cell_type": "code",
   "execution_count": 16,
   "metadata": {},
   "outputs": [
    {
     "name": "stdout",
     "output_type": "stream",
     "text": [
      "Test image: 01.jpg\n",
      "  25, Road work: 100.000%\n",
      "  38, Keep right: 0.000%\n",
      "  0, Speed limit (20km/h): 0.000%\n",
      "  1, Speed limit (30km/h): 0.000%\n",
      "  2, Speed limit (50km/h): 0.000%\n",
      "Test image: 02.jpg\n",
      "  13, Yield: 100.000%\n",
      "  15, No vehicles: 0.000%\n",
      "  33, Turn right ahead: 0.000%\n",
      "  0, Speed limit (20km/h): 0.000%\n",
      "  1, Speed limit (30km/h): 0.000%\n",
      "Test image: 03.jpg\n",
      "  12, Priority road: 100.000%\n",
      "  0, Speed limit (20km/h): 0.000%\n",
      "  1, Speed limit (30km/h): 0.000%\n",
      "  2, Speed limit (50km/h): 0.000%\n",
      "  3, Speed limit (60km/h): 0.000%\n",
      "Test image: 04.jpg\n",
      "  10, No passing for vehicles over 3.5 metric tons: 100.000%\n",
      "  9, No passing: 0.000%\n",
      "  23, Slippery road: 0.000%\n",
      "  0, Speed limit (20km/h): 0.000%\n",
      "  1, Speed limit (30km/h): 0.000%\n",
      "Test image: 05.jpg\n",
      "  4, Speed limit (70km/h): 99.937%\n",
      "  1, Speed limit (30km/h): 0.046%\n",
      "  5, Speed limit (80km/h): 0.017%\n",
      "  2, Speed limit (50km/h): 0.000%\n",
      "  3, Speed limit (60km/h): 0.000%\n"
     ]
    }
   ],
   "source": [
    "### Print out the top five softmax probabilities for the predictions on the German traffic sign images found on the web. \n",
    "### Feel free to use as many code cells as needed.\n",
    "test_output = tf.nn.softmax(logits)\n",
    "test_output = tf.nn.top_k(test_output, 5)\n",
    "\n",
    "with tf.Session() as sess:\n",
    "    saver.restore(sess, tf.train.latest_checkpoint('.'))\n",
    "    output = sess.run(test_output, feed_dict={x: X_my_test})\n",
    "\n",
    "    for i in range(len(X_my_test)):\n",
    "        print(\"Test image:\", images[i])\n",
    "        for a,b in zip(output[1][i],output[0][i]):\n",
    "            print(\"  {}, {}: {:.3f}%\".format(a, signame_dict[str(a)],b*100))\n"
   ]
  }
 ],
 "metadata": {
  "anaconda-cloud": {},
  "kernelspec": {
   "display_name": "Python 3",
   "language": "python",
   "name": "python3"
  },
  "language_info": {
   "codemirror_mode": {
    "name": "ipython",
    "version": 3
   },
   "file_extension": ".py",
   "mimetype": "text/x-python",
   "name": "python",
   "nbconvert_exporter": "python",
   "pygments_lexer": "ipython3",
   "version": "3.5.2"
  },
  "widgets": {
   "state": {},
   "version": "1.1.2"
  }
 },
 "nbformat": 4,
 "nbformat_minor": 1
}
